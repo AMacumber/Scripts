{
 "cells": [
  {
   "cell_type": "markdown",
   "metadata": {},
   "source": [
    "# Web Scraping"
   ]
  },
  {
   "cell_type": "code",
   "execution_count": null,
   "metadata": {},
   "outputs": [],
   "source": [
    "# access a web page\n",
    "name = requests.get(\"link\")\n",
    "print(name) # returns html code; 200 means success\n",
    "\n",
    "# Print out the page\n",
    "page = name.text   \n",
    "print(page)\n",
    "\n",
    "# Find the start and finish index positions of the string\n",
    "start = page.find(\"str\")\n",
    "print(start)\n",
    "finish = page.find(\"str)\n",
    "print(finish)\n",
    "\n",
    "# Slice the string\n",
    "page_slice = page[start:finish] # you can add (+) numbers to the index position\n",
    "print(page_slice)\n",
    "\n",
    "# Remove extraneous text\n",
    "final_slice = page_slice.strip('...') # remove characters from the beginning or end of a string\n",
    "print(final_slice)"
   ]
  }
 ],
 "metadata": {
  "kernelspec": {
   "display_name": "Python 3",
   "language": "python",
   "name": "python3"
  },
  "language_info": {
   "codemirror_mode": {
    "name": "ipython",
    "version": 3
   },
   "file_extension": ".py",
   "mimetype": "text/x-python",
   "name": "python",
   "nbconvert_exporter": "python",
   "pygments_lexer": "ipython3",
   "version": "3.7.3"
  }
 },
 "nbformat": 4,
 "nbformat_minor": 2
}
