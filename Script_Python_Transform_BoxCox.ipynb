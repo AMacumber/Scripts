{
 "cells": [
  {
   "cell_type": "markdown",
   "metadata": {},
   "source": [
    "## Box Cox Transformation\n",
    "\n",
    "### Libraries"
   ]
  },
  {
   "cell_type": "code",
   "execution_count": 35,
   "metadata": {},
   "outputs": [],
   "source": [
    "from scipy import stats"
   ]
  },
  {
   "cell_type": "markdown",
   "metadata": {},
   "source": [
    "### Transformation\n",
    "\n",
    "Boxcox transformation can only be applied to a 1-D array. Therefore need to iterate through a DataFrame."
   ]
  },
  {
   "cell_type": "code",
   "execution_count": 58,
   "metadata": {},
   "outputs": [
    {
     "name": "stdout",
     "output_type": "stream",
     "text": [
      "EM1 Lambda: -13.536740\n",
      "EM2 Lambda: 11.078227\n",
      "Ti Lambda: 0.380199\n",
      "Beaufort Lambda: 1.207539\n"
     ]
    },
    {
     "data": {
      "text/html": [
       "<div>\n",
       "<style scoped>\n",
       "    .dataframe tbody tr th:only-of-type {\n",
       "        vertical-align: middle;\n",
       "    }\n",
       "\n",
       "    .dataframe tbody tr th {\n",
       "        vertical-align: top;\n",
       "    }\n",
       "\n",
       "    .dataframe thead th {\n",
       "        text-align: right;\n",
       "    }\n",
       "</style>\n",
       "<table border=\"1\" class=\"dataframe\">\n",
       "  <thead>\n",
       "    <tr style=\"text-align: right;\">\n",
       "      <th></th>\n",
       "      <th>EM1</th>\n",
       "      <th>EM2</th>\n",
       "      <th>Ti</th>\n",
       "      <th>Beaufort</th>\n",
       "    </tr>\n",
       "  </thead>\n",
       "  <tbody>\n",
       "    <tr>\n",
       "      <th>0</th>\n",
       "      <td>0.073873</td>\n",
       "      <td>1.478275e+10</td>\n",
       "      <td>24.214245</td>\n",
       "      <td>22.728924</td>\n",
       "    </tr>\n",
       "    <tr>\n",
       "      <th>1</th>\n",
       "      <td>0.073873</td>\n",
       "      <td>1.243004e+10</td>\n",
       "      <td>15.482903</td>\n",
       "      <td>19.220902</td>\n",
       "    </tr>\n",
       "    <tr>\n",
       "      <th>2</th>\n",
       "      <td>0.073873</td>\n",
       "      <td>1.447617e+10</td>\n",
       "      <td>35.414986</td>\n",
       "      <td>17.504684</td>\n",
       "    </tr>\n",
       "    <tr>\n",
       "      <th>3</th>\n",
       "      <td>0.073873</td>\n",
       "      <td>1.080829e+10</td>\n",
       "      <td>29.284617</td>\n",
       "      <td>26.329362</td>\n",
       "    </tr>\n",
       "    <tr>\n",
       "      <th>4</th>\n",
       "      <td>0.073873</td>\n",
       "      <td>2.041143e+10</td>\n",
       "      <td>25.780762</td>\n",
       "      <td>28.161589</td>\n",
       "    </tr>\n",
       "  </tbody>\n",
       "</table>\n",
       "</div>"
      ],
      "text/plain": [
       "        EM1           EM2         Ti   Beaufort\n",
       "0  0.073873  1.478275e+10  24.214245  22.728924\n",
       "1  0.073873  1.243004e+10  15.482903  19.220902\n",
       "2  0.073873  1.447617e+10  35.414986  17.504684\n",
       "3  0.073873  1.080829e+10  29.284617  26.329362\n",
       "4  0.073873  2.041143e+10  25.780762  28.161589"
      ]
     },
     "execution_count": 58,
     "metadata": {},
     "output_type": "execute_result"
    }
   ],
   "source": [
    "df_005 = df_004 + 10 # add a constant to circumvent negative values\n",
    "df_006 = pd.DataFrame()\n",
    "\n",
    "for i in df_005.columns:\n",
    "    df_006[i], lam = stats.boxcox(df_005[i])\n",
    "    print(i, 'Lambda: %f' % lam)\n",
    "\n",
    "df_006.head()"
   ]
  },
  {
   "cell_type": "markdown",
   "metadata": {},
   "source": [
    "*After inspection with correlogram - transformation does not help*"
   ]
  }
 ],
 "metadata": {
  "kernelspec": {
   "display_name": "Python 3",
   "language": "python",
   "name": "python3"
  },
  "language_info": {
   "codemirror_mode": {
    "name": "ipython",
    "version": 3
   },
   "file_extension": ".py",
   "mimetype": "text/x-python",
   "name": "python",
   "nbconvert_exporter": "python",
   "pygments_lexer": "ipython3",
   "version": "3.7.1"
  }
 },
 "nbformat": 4,
 "nbformat_minor": 2
}
