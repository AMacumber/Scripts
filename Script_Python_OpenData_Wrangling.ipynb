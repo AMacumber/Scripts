{
 "cells": [
  {
   "cell_type": "markdown",
   "metadata": {},
   "source": [
    "# Load Data & Wrangle\n",
    "\n",
    "## Libraries"
   ]
  },
  {
   "cell_type": "code",
   "execution_count": 1,
   "metadata": {},
   "outputs": [],
   "source": [
    "import pandas as pd"
   ]
  },
  {
   "cell_type": "markdown",
   "metadata": {},
   "source": [
    "## Data Wrangling\n",
    "\n",
    "### Load Data"
   ]
  },
  {
   "cell_type": "code",
   "execution_count": 14,
   "metadata": {},
   "outputs": [
    {
     "name": "stdout",
     "output_type": "stream",
     "text": [
      "(100, 14)\n",
      "   Codes     Lat_dm     Long_dm       EM1       EM2       EM3  EM4     Mode  \\\n",
      "0      1  45°43.962  067°00.691       NaN       NaN       NaN  NaN      NaN   \n",
      "1      2  45°43.969  067°00.673       NaN       NaN       NaN  NaN      NaN   \n",
      "2      3  45°43.988  067°00.658  0.401865  0.286703  0.311432  0.0  169.056   \n",
      "3      4  45°43.997  067°00.646  0.274545  0.126995  0.598460  0.0  169.056   \n",
      "4      5  45°44.003  067°00.687       NaN       NaN       NaN  NaN      NaN   \n",
      "\n",
      "           Ti    Lat_dd   Long_dd  Beaufort Wind_Speed  Disturb_Depth  \n",
      "0  543.206316  45.73270 -67.01152         8  50-61km/h            4.4  \n",
      "1  512.490427  45.73282 -67.01122         8  50-61km/h            4.4  \n",
      "2  440.316020  45.73313 -67.01097         6  29-38km/h            2.9  \n",
      "3  149.999099  45.73328 -67.01077         4  12-19km/h            1.6  \n",
      "4  935.942387  45.73338 -67.01145         6  29-38km/h            2.9  \n"
     ]
    }
   ],
   "source": [
    "# read in the dataframe\n",
    "df_001 = pd.read_csv(\"Harvey_CorrelationMatrix_v002.csv\", encoding = \"cp1252\")\n",
    "print(df_001.shape)\n",
    "print(df_001.head())"
   ]
  },
  {
   "cell_type": "markdown",
   "metadata": {},
   "source": [
    "### Check NAs"
   ]
  },
  {
   "cell_type": "code",
   "execution_count": 15,
   "metadata": {},
   "outputs": [
    {
     "data": {
      "text/plain": [
       "True"
      ]
     },
     "execution_count": 15,
     "metadata": {},
     "output_type": "execute_result"
    }
   ],
   "source": [
    "df_001.isnull().values.any()"
   ]
  },
  {
   "cell_type": "markdown",
   "metadata": {},
   "source": [
    "### Drop NAs"
   ]
  },
  {
   "cell_type": "code",
   "execution_count": 16,
   "metadata": {},
   "outputs": [
    {
     "name": "stdout",
     "output_type": "stream",
     "text": [
      "(84, 14)\n",
      "   Codes     Lat_dm     Long_dm       EM1       EM2       EM3       EM4  \\\n",
      "2      3  45°43.988  067°00.658  0.401865  0.286703  0.311432  0.000000   \n",
      "3      4  45°43.997  067°00.646  0.274545  0.126995  0.598460  0.000000   \n",
      "5      6  45°43.978  067°00.609  0.048200  0.267261  0.684539  0.000000   \n",
      "6      7  45°43.992  067°00.706  0.234884  0.000000  0.000000  0.523794   \n",
      "7      8  45°43.934  067°00.724  0.409310  0.590690  0.000000  0.000000   \n",
      "\n",
      "       Mode           Ti    Lat_dd   Long_dd  Beaufort Wind_Speed  \\\n",
      "2  169.0560   440.316020  45.73313 -67.01097         6  29-38km/h   \n",
      "3  169.0560   149.999099  45.73328 -67.01077         4  12-19km/h   \n",
      "5  169.0560  1116.804433  45.73297 -67.01015         3  6-11km/h    \n",
      "6  471.6525   699.814805  45.73320 -67.01177         8  50-61km/h   \n",
      "7   38.0099   512.760987  45.73290 -67.01207         9  62-74km/h   \n",
      "\n",
      "   Disturb_Depth  \n",
      "2            2.9  \n",
      "3            1.6  \n",
      "5            1.0  \n",
      "6            4.4  \n",
      "7            5.3  \n"
     ]
    }
   ],
   "source": [
    "df_002 = df_001.dropna(axis=0)\n",
    "\n",
    "print(df_002.shape)\n",
    "print(df_002.head())"
   ]
  },
  {
   "cell_type": "markdown",
   "metadata": {},
   "source": [
    "### Drop Columns"
   ]
  },
  {
   "cell_type": "code",
   "execution_count": 17,
   "metadata": {},
   "outputs": [
    {
     "name": "stdout",
     "output_type": "stream",
     "text": [
      "(84, 8)\n",
      "        EM1       EM2       EM3       EM4      Mode           Ti  Beaufort  \\\n",
      "2  0.401865  0.286703  0.311432  0.000000  169.0560   440.316020         6   \n",
      "3  0.274545  0.126995  0.598460  0.000000  169.0560   149.999099         4   \n",
      "5  0.048200  0.267261  0.684539  0.000000  169.0560  1116.804433         3   \n",
      "6  0.234884  0.000000  0.000000  0.523794  471.6525   699.814805         8   \n",
      "7  0.409310  0.590690  0.000000  0.000000   38.0099   512.760987         9   \n",
      "\n",
      "   Disturb_Depth  \n",
      "2            2.9  \n",
      "3            1.6  \n",
      "5            1.0  \n",
      "6            4.4  \n",
      "7            5.3  \n"
     ]
    }
   ],
   "source": [
    "df_003 = df_002.drop(['Codes','Lat_dm','Long_dm','Lat_dd','Long_dd','Wind_Speed'], axis = 1)\n",
    "\n",
    "print(df_003.shape)\n",
    "print(df_003.head())"
   ]
  }
 ],
 "metadata": {
  "kernelspec": {
   "display_name": "Python 3",
   "language": "python",
   "name": "python3"
  },
  "language_info": {
   "codemirror_mode": {
    "name": "ipython",
    "version": 3
   },
   "file_extension": ".py",
   "mimetype": "text/x-python",
   "name": "python",
   "nbconvert_exporter": "python",
   "pygments_lexer": "ipython3",
   "version": "3.7.3"
  }
 },
 "nbformat": 4,
 "nbformat_minor": 2
}
