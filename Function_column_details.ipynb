{
 "cells": [
  {
   "cell_type": "markdown",
   "metadata": {},
   "source": [
    "# column_details()\n",
    "\n",
    "Given a dataframe iterate over the columns and create a dictionary with basic descriptions for each column."
   ]
  },
  {
   "cell_type": "code",
   "execution_count": null,
   "metadata": {},
   "outputs": [],
   "source": [
    "# v001\n",
    "\n",
    "def column_details(data):\n",
    "    \n",
    "    column_details = extract_column_details(data)\n",
    "    \n",
    "    import pandas as pd\n",
    "        \n",
    "    column_details['Index'] = ['Type','Count','Missing','Num_Uniq','Min','Max','Mean','Std','Levels']\n",
    "    \n",
    "    df = pd.DataFrame(column_details, columns = column_details.keys()).set_index('Index', drop = True)\n",
    "    \n",
    "    return df"
   ]
  },
  {
   "cell_type": "code",
   "execution_count": null,
   "metadata": {},
   "outputs": [],
   "source": [
    "# v001\n",
    "\n",
    "def extract_column_details(data, column_details = {}):\n",
    "    \"\"\"\n",
    "    Return details about each column in a dataframe\n",
    "    \"\"\"\n",
    "    \n",
    "    import numpy as np\n",
    "    from pandas import DataFrame\n",
    "    \n",
    "    for column in data.columns:\n",
    "        col_type = type(data[column][0])\n",
    "        col_count = len(data[column])\n",
    "        col_miss = data[column].isnull().sum()  # how many missing values?\n",
    "        col_num_unique = len(np.unique(data[column]))  # how many unique values?\n",
    "\n",
    "        if (type(data[column][0]) is str) == False:  # only if float or integer\n",
    "            col_min = np.min(data[column])  # minimum\n",
    "            col_max = np.max(data[column])  # maximum\n",
    "            col_mean = np.mean(data[column])  # average\n",
    "            col_std = np.std(data[column])  # standard deviation\n",
    "\n",
    "        else:  # if its a string\n",
    "            col_min = 'string'  # minimum\n",
    "            col_max = 'string'  # maximum\n",
    "            col_mean = 'string'  # average\n",
    "            col_std = 'string'  # standard deviation\n",
    "\n",
    "        if col_num_unique <= 10:  # want to list unique values\n",
    "            col_list = np.unique(data[column])\n",
    "\n",
    "        else:\n",
    "            col_list = \"too many\"\n",
    "\n",
    "        # create a dictionary to store the info\n",
    "        column_details[column] = [col_type,\n",
    "                                  col_count,\n",
    "                                  col_miss,\n",
    "                                  col_num_unique,\n",
    "                                  col_min,\n",
    "                                  col_max,\n",
    "                                  col_mean,\n",
    "                                  col_std,\n",
    "                                  col_list]\n",
    "        \n",
    "    return column_details"
   ]
  }
 ],
 "metadata": {
  "kernelspec": {
   "display_name": "Python 3",
   "language": "python",
   "name": "python3"
  },
  "language_info": {
   "codemirror_mode": {
    "name": "ipython",
    "version": 3
   },
   "file_extension": ".py",
   "mimetype": "text/x-python",
   "name": "python",
   "nbconvert_exporter": "python",
   "pygments_lexer": "ipython3",
   "version": "3.7.3"
  }
 },
 "nbformat": 4,
 "nbformat_minor": 2
}
