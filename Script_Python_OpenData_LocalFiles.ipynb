{
 "cells": [
  {
   "cell_type": "markdown",
   "metadata": {},
   "source": [
    "# Importing Data in Python\n",
    "\n",
    "Table of Contents\n",
    "* [Text Files](#text)\n",
    "* [Flat files](#flat)\n",
    "* [Pickled Files](#pickled)\n",
    "* [Excel Files](#excel)\n",
    "* [SAS files](#sas)\n",
    "* [HDF5 files](#hdf5)\n",
    "* [MATLAB files](#matlab)\n",
    "\n",
    "## <a name=\"text\"><a/>Text Files"
   ]
  },
  {
   "cell_type": "code",
   "execution_count": null,
   "metadata": {},
   "outputs": [],
   "source": [
    "filename = 'huck_finn.txt'\n",
    "\n",
    "file = open(filename, mode = 'r') # r is read; w is write\n",
    "\n",
    "text = file.read()\n",
    "\n",
    "file.close()"
   ]
  },
  {
   "cell_type": "markdown",
   "metadata": {},
   "source": [
    "Create a context/clause avoids the need to use 'file.close()'"
   ]
  },
  {
   "cell_type": "code",
   "execution_count": null,
   "metadata": {},
   "outputs": [],
   "source": [
    "with open('huck_finn.txt', 'r') as file:\n",
    "    print(file.read())\n",
    "    print(file.readline())"
   ]
  },
  {
   "cell_type": "markdown",
   "metadata": {},
   "source": [
    "## <a name=\"flat\"><a/>Flat Files\n",
    "Text files containing records. Rows represent records, and columns contain attributes."
   ]
  },
  {
   "cell_type": "code",
   "execution_count": null,
   "metadata": {},
   "outputs": [],
   "source": [
    "import pandas as pd\n",
    "\n",
    "filename = 'winequality-red.csv'\n",
    "\n",
    "data = pd.read_csv(filename\n",
    "                  ,header = None  # if no header present\n",
    "                  ,rows = 5  # read the first five rows only\n",
    "                   , comment = '#'  # if comments are present\n",
    "                   , na_values = 'Nothing'  # in this example we set a custom string\n",
    "                  )\n",
    "\n",
    "data.head()\n",
    "\n",
    "data_array = data.values  # creates a numpy array, rather than importing with NumPy"
   ]
  },
  {
   "cell_type": "markdown",
   "metadata": {},
   "source": [
    "## <a name=\"pickled\"><a/>Pickled Files\n",
    "Pickling a file, means to serialize it, converting the object into a sequence of bytes."
   ]
  },
  {
   "cell_type": "code",
   "execution_count": null,
   "metadata": {},
   "outputs": [],
   "source": [
    "import pickle\n",
    "\n",
    "with open('data.pkl'\n",
    "         , mode = 'rb'  # setting it to read, and as binary\n",
    "         ) as file:\n",
    "    d = pickle.load(file)\n",
    "    \n",
    "print(d)"
   ]
  },
  {
   "cell_type": "markdown",
   "metadata": {},
   "source": [
    "## <a name=\"excel\"><a/>Excel Files"
   ]
  },
  {
   "cell_type": "code",
   "execution_count": null,
   "metadata": {},
   "outputs": [],
   "source": [
    "import pandas as pd\n",
    "\n",
    "file = 'battledeath.xlsx'\n",
    "\n",
    "xls = pd.ExcelFile(file)\n",
    "\n",
    "print(xls.sheet_names)  # will list the sheet names of the excel file\n",
    "\n",
    "# You can either load a sheet into a DataFrame by name or index\n",
    "df1 = xls.parse('2004')  # by name\n",
    "df2 = xls.parse(0)  # by index\n",
    "\n",
    "# As with other imports there are several options\n",
    "df1 = xls.parse(0\n",
    "               , skiprows = [1]  # skip the first row, needs to be in list format\n",
    "               , names = ['Country', 'AAM due to War (2002)']  # rename columns, needs to be list\n",
    "               , usecols = [0,1]  # specify columns, needs to be list\n",
    "               )"
   ]
  },
  {
   "cell_type": "markdown",
   "metadata": {},
   "source": [
    "## <a name=\"sas\"><a/>SAS files"
   ]
  },
  {
   "cell_type": "code",
   "execution_count": null,
   "metadata": {},
   "outputs": [],
   "source": [
    "from sas7bdat import SAS7BDAT\n",
    "\n",
    "with SAS7BDAT('sales.sas7bdata') as file:\n",
    "    df_sas = file.to_data_frame()\n",
    "    \n",
    "print(df_sas.head())"
   ]
  },
  {
   "cell_type": "markdown",
   "metadata": {},
   "source": [
    "## <a name=\"stata\"><a/>Stata files"
   ]
  },
  {
   "cell_type": "code",
   "execution_count": null,
   "metadata": {},
   "outputs": [],
   "source": [
    "import pandas as pd\n",
    "\n",
    "data = pd.read_stata('urbanpop.dta')"
   ]
  },
  {
   "cell_type": "markdown",
   "metadata": {},
   "source": [
    "## <a name=\"hdf5\"><a/>HDF5 files\n",
    "For very large hierarchical datasets"
   ]
  },
  {
   "cell_type": "code",
   "execution_count": null,
   "metadata": {},
   "outputs": [],
   "source": [
    "import numpy as np\n",
    "import h5py\n",
    "\n",
    "file = 'LIGO_data.hdf5'\n",
    "\n",
    "data = h5py.File(file, 'r')\n",
    "print(type(data))\n",
    "\n",
    "# Print the keys of the file\n",
    "for key in data.keys():\n",
    "    print(key)\n",
    "#>>> meta, quality, strain\n",
    "\n",
    "group = data['strain']\n",
    "\n",
    "# Print the keys of the group\n",
    "for key in group.keys():\n",
    "    print(key)\n",
    "#>>> Strain\n",
    "\n",
    "# Set variable equal to time series data: strain\n",
    "strain = data['strain']['Strain'].value"
   ]
  },
  {
   "cell_type": "markdown",
   "metadata": {},
   "source": [
    "## <a name=\"matlab\"><a/>MATLAB files"
   ]
  },
  {
   "cell_type": "code",
   "execution_count": null,
   "metadata": {},
   "outputs": [],
   "source": [
    "import scipy.io\n",
    "\n",
    "mat = scipy.io.loadmat('albeck_gene_expression.mat')\n",
    "print(type(mat))\n",
    "\n",
    "# Print the keys\n",
    "print(mat.keys())\n",
    "#>>>dict_keys(['__header__', '__version__', '__globals__', 'rfpCyt', 'rfpNuc', 'cfpNuc', 'cfpCyt', 'yfpNuc', 'yfpCyt', 'CYratioCyt'])\n",
    "\n",
    "print(type(mat['CYratioCyt']))\n",
    "#>>> <class 'numpy.ndarray'\n",
    "\n",
    "import numpy as np\n",
    "print(np.shape(mat['CYratioCyt']))"
   ]
  }
 ],
 "metadata": {
  "kernelspec": {
   "display_name": "Python 3",
   "language": "python",
   "name": "python3"
  },
  "language_info": {
   "codemirror_mode": {
    "name": "ipython",
    "version": 3
   },
   "file_extension": ".py",
   "mimetype": "text/x-python",
   "name": "python",
   "nbconvert_exporter": "python",
   "pygments_lexer": "ipython3",
   "version": "3.7.3"
  }
 },
 "nbformat": 4,
 "nbformat_minor": 2
}
