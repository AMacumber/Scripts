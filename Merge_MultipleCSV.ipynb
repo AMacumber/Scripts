{
 "cells": [
  {
   "cell_type": "markdown",
   "metadata": {},
   "source": [
    "## Merge multiple .csv files\n",
    "\n",
    "This script will merge multiple csv files with similar formatting into a single csv."
   ]
  },
  {
   "cell_type": "markdown",
   "metadata": {},
   "source": [
    "## Libraries"
   ]
  },
  {
   "cell_type": "code",
   "execution_count": 3,
   "metadata": {},
   "outputs": [],
   "source": [
    "import pandas as pd # manipulating dataframes\n",
    "import csv # converting to csv\n",
    "import glob as glob # creating list of files in folders\n",
    "import os # changing working directories"
   ]
  },
  {
   "cell_type": "markdown",
   "metadata": {},
   "source": [
    "## The Data\n",
    "\n",
    "**Attempt to read one csv file**"
   ]
  },
  {
   "cell_type": "code",
   "execution_count": 22,
   "metadata": {},
   "outputs": [
    {
     "name": "stdout",
     "output_type": "stream",
     "text": [
      "(744, 24)\n",
      "(744, 24)\n"
     ]
    }
   ],
   "source": [
    "# The year 2006 is a known issue; turns out there is an extra row\n",
    "df_2007 = pd.read_csv(\"eng-hourly-01012007-01312007.csv\", encoding = \"cp1252\", skiprows = 14)\n",
    "df_2006 = pd.read_csv(\"eng-hourly-01012006-01312006 (1).csv\", encoding = \"cp1252\", skiprows = 15)\n",
    "print(df_2007.shape)\n",
    "print(df_2006.shape)"
   ]
  },
  {
   "cell_type": "markdown",
   "metadata": {},
   "source": [
    "*The format for files in 2006 is different than all other years. It is necessary to skip an additional row when reading them in*"
   ]
  },
  {
   "cell_type": "markdown",
   "metadata": {},
   "source": [
    "**List all columns**"
   ]
  },
  {
   "cell_type": "code",
   "execution_count": 17,
   "metadata": {},
   "outputs": [
    {
     "name": "stdout",
     "output_type": "stream",
     "text": [
      "['Date/Time' 'Year' 'Month' 'Day' 'Time' 'Temp (Â°C)' 'Temp Flag'\n",
      " 'Dew Point Temp (Â°C)' 'Dew Point Temp Flag' 'Rel Hum (%)' 'Rel Hum Flag'\n",
      " 'Wind Dir (10s deg)' 'Wind Dir Flag' 'Wind Spd (km/h)' 'Wind Spd Flag'\n",
      " 'Visibility (km)' 'Visibility Flag' 'Stn Press (kPa)' 'Stn Press Flag'\n",
      " 'Hmdx' 'Hmdx Flag' 'Wind Chill' 'Wind Chill Flag' 'Weather']\n",
      "['Date/Time' 'Year' 'Month' 'Day' 'Time' 'Temp (°C)' 'Temp Flag'\n",
      " 'Dew Point Temp (°C)' 'Dew Point Temp Flag' 'Rel Hum (%)' 'Rel Hum Flag'\n",
      " 'Wind Dir (10s deg)' 'Wind Dir Flag' 'Wind Spd (km/h)' 'Wind Spd Flag'\n",
      " 'Visibility (km)' 'Visibility Flag' 'Stn Press (kPa)' 'Stn Press Flag'\n",
      " 'Hmdx' 'Hmdx Flag' 'Wind Chill' 'Wind Chill Flag' 'Weather']\n"
     ]
    }
   ],
   "source": [
    "print(df_2007.columns.values)\n",
    "print(df_2006.columns.values)"
   ]
  },
  {
   "cell_type": "markdown",
   "metadata": {},
   "source": [
    "*The formatting for degrees is different between all years and 2006. These columns cannot be kept*\n",
    "\n",
    "**Keep only relevant columns**"
   ]
  },
  {
   "cell_type": "code",
   "execution_count": 23,
   "metadata": {},
   "outputs": [
    {
     "name": "stdout",
     "output_type": "stream",
     "text": [
      "['Year' 'Month' 'Day' 'Time' 'Wind Dir (10s deg)' 'Wind Spd (km/h)']\n",
      "['Year' 'Month' 'Day' 'Time' 'Wind Dir (10s deg)' 'Wind Spd (km/h)']\n"
     ]
    }
   ],
   "source": [
    "df_2007 = df_2007.iloc[:,[1,2,3,4,11,13]]\n",
    "df_2006 = df_2006.iloc[:,[1,2,3,4,11,13]]\n",
    "\n",
    "print(df_2007.columns.values)\n",
    "print(df_2006.columns.values)"
   ]
  },
  {
   "cell_type": "markdown",
   "metadata": {},
   "source": [
    "*2006 files require an extra row to be removed and that temperature not be kept*"
   ]
  },
  {
   "cell_type": "markdown",
   "metadata": {},
   "source": [
    "## Format Files\n",
    "\n",
    "Remove the top 14 (2006 = 15) rows, and keep only a select few columns."
   ]
  },
  {
   "cell_type": "code",
   "execution_count": 24,
   "metadata": {},
   "outputs": [],
   "source": [
    "# Prior: Move all files into a single folder \"Data_Unformated\"\n",
    "for f in glob.glob('C:/Users/I dunno---Andrew/FactoryFloor/Offline/HarveyLake/Data_Unformated/*.csv'): # for all csvs in folder\n",
    "    df_001 = pd.read_csv(f, encoding = \"cp1252\", skiprows = 14) # open skipping first 14 rows\n",
    "    df_002 = df_001.iloc[:,[1,2,3,4,11,13]] # keep only certain columns\n",
    "    df_002.to_csv(f) # save a new csv\n",
    "    \n",
    "# Prior: Move 2006 files into a single folder \"2006_Unformated\"\n",
    "for f in glob.glob('C:/Users/I dunno---Andrew/FactoryFloor/Offline/HarveyLake/2006_Unformated/*.csv'): # for all csvs in folder\n",
    "    df_001 = pd.read_csv(f, encoding = \"cp1252\", skiprows = 15) # open skipping first 14 rows\n",
    "    df_002 = df_001.iloc[:,[1,2,3,4,11,13]] # keep only certain columns\n",
    "    df_002.to_csv(f) # save a new csv"
   ]
  },
  {
   "cell_type": "markdown",
   "metadata": {},
   "source": [
    "## Merge multiple .csv files\n",
    "\n",
    "Define a function that will merge all formatted files into a single csv."
   ]
  },
  {
   "cell_type": "code",
   "execution_count": 28,
   "metadata": {},
   "outputs": [],
   "source": [
    "# 2006 files need to be moved to same folder as all others.\n",
    "def concatenate(indir=\"C:\\\\Users\\\\I dunno---Andrew\\\\FactoryFloor\\\\Offline\\\\HarveyLake\\\\Data_Concatenate\", \n",
    "                outfile=\"C:\\\\Users\\\\I dunno---Andrew\\\\FactoryFloor\\\\Offline\\\\HarveyLake\\\\Concatenated.csv\"):\n",
    "    os.chdir(indir)\n",
    "    fileList=glob.glob(\"*.csv\")\n",
    "    dfList=[]\n",
    "    colnames=[\"Year\",\"Month\",\"Day\",\"Time\", \"WindDir\",\"WindKmH\"]\n",
    "    for filename in fileList:\n",
    "        #print(filename) # these can be uncommented to track progress\n",
    "        df=pd.read_csv(filename,header=0,index_col=0)\n",
    "        dfList.append(df)\n",
    "    concatDf=pd.concat(dfList,axis=0)\n",
    "    #print(concatDf.head(10)) # these can be uncommented to track progress\n",
    "    concatDf.columns=colnames\n",
    "    concatDf.to_csv(outfile)"
   ]
  },
  {
   "cell_type": "markdown",
   "metadata": {},
   "source": [
    "Run the function."
   ]
  },
  {
   "cell_type": "code",
   "execution_count": 29,
   "metadata": {},
   "outputs": [],
   "source": [
    "concatenate()"
   ]
  },
  {
   "cell_type": "markdown",
   "metadata": {},
   "source": [
    "**Change back to working directory**"
   ]
  },
  {
   "cell_type": "code",
   "execution_count": 36,
   "metadata": {},
   "outputs": [],
   "source": [
    "os.chdir(\"C:\\\\Users\\\\I dunno---Andrew\\\\FactoryFloor\\\\Offline\\\\HarveyLake\\\\\")"
   ]
  },
  {
   "cell_type": "code",
   "execution_count": 39,
   "metadata": {},
   "outputs": [
    {
     "data": {
      "text/plain": [
       "'C:\\\\Users\\\\I dunno---Andrew\\\\FactoryFloor\\\\Offline\\\\HarveyLake'"
      ]
     },
     "execution_count": 39,
     "metadata": {},
     "output_type": "execute_result"
    }
   ],
   "source": [
    "os.getcwd()"
   ]
  },
  {
   "cell_type": "markdown",
   "metadata": {},
   "source": [
    "## Inspect Output"
   ]
  },
  {
   "cell_type": "code",
   "execution_count": 42,
   "metadata": {},
   "outputs": [
    {
     "data": {
      "text/html": [
       "<div>\n",
       "<style scoped>\n",
       "    .dataframe tbody tr th:only-of-type {\n",
       "        vertical-align: middle;\n",
       "    }\n",
       "\n",
       "    .dataframe tbody tr th {\n",
       "        vertical-align: top;\n",
       "    }\n",
       "\n",
       "    .dataframe thead th {\n",
       "        text-align: right;\n",
       "    }\n",
       "</style>\n",
       "<table border=\"1\" class=\"dataframe\">\n",
       "  <thead>\n",
       "    <tr style=\"text-align: right;\">\n",
       "      <th></th>\n",
       "      <th>Year</th>\n",
       "      <th>Month</th>\n",
       "      <th>Day</th>\n",
       "      <th>Time</th>\n",
       "      <th>WindDir</th>\n",
       "      <th>WindKmH</th>\n",
       "    </tr>\n",
       "  </thead>\n",
       "  <tbody>\n",
       "    <tr>\n",
       "      <th>0</th>\n",
       "      <td>1953</td>\n",
       "      <td>1</td>\n",
       "      <td>1</td>\n",
       "      <td>00:00</td>\n",
       "      <td>34.0</td>\n",
       "      <td>3.0</td>\n",
       "    </tr>\n",
       "    <tr>\n",
       "      <th>1</th>\n",
       "      <td>1953</td>\n",
       "      <td>1</td>\n",
       "      <td>1</td>\n",
       "      <td>01:00</td>\n",
       "      <td>34.0</td>\n",
       "      <td>5.0</td>\n",
       "    </tr>\n",
       "    <tr>\n",
       "      <th>2</th>\n",
       "      <td>1953</td>\n",
       "      <td>1</td>\n",
       "      <td>1</td>\n",
       "      <td>02:00</td>\n",
       "      <td>34.0</td>\n",
       "      <td>5.0</td>\n",
       "    </tr>\n",
       "    <tr>\n",
       "      <th>3</th>\n",
       "      <td>1953</td>\n",
       "      <td>1</td>\n",
       "      <td>1</td>\n",
       "      <td>03:00</td>\n",
       "      <td>NaN</td>\n",
       "      <td>0.0</td>\n",
       "    </tr>\n",
       "    <tr>\n",
       "      <th>4</th>\n",
       "      <td>1953</td>\n",
       "      <td>1</td>\n",
       "      <td>1</td>\n",
       "      <td>04:00</td>\n",
       "      <td>34.0</td>\n",
       "      <td>2.0</td>\n",
       "    </tr>\n",
       "  </tbody>\n",
       "</table>\n",
       "</div>"
      ],
      "text/plain": [
       "   Year  Month  Day   Time  WindDir  WindKmH\n",
       "0  1953      1    1  00:00     34.0      3.0\n",
       "1  1953      1    1  01:00     34.0      5.0\n",
       "2  1953      1    1  02:00     34.0      5.0\n",
       "3  1953      1    1  03:00      NaN      0.0\n",
       "4  1953      1    1  04:00     34.0      2.0"
      ]
     },
     "execution_count": 42,
     "metadata": {},
     "output_type": "execute_result"
    }
   ],
   "source": [
    "df_concate = pd.read_csv(\"Concatenated.csv\", index_col = 0)\n",
    "df_concate.head()"
   ]
  }
 ],
 "metadata": {
  "kernelspec": {
   "display_name": "Python 3",
   "language": "python",
   "name": "python3"
  },
  "language_info": {
   "codemirror_mode": {
    "name": "ipython",
    "version": 3
   },
   "file_extension": ".py",
   "mimetype": "text/x-python",
   "name": "python",
   "nbconvert_exporter": "python",
   "pygments_lexer": "ipython3",
   "version": "3.7.1"
  }
 },
 "nbformat": 4,
 "nbformat_minor": 2
}
