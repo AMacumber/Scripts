{
 "cells": [
  {
   "cell_type": "markdown",
   "metadata": {},
   "source": [
    "# Create A DataFrame by importing data from mySQL Database\n",
    "\n",
    "Load Libraries"
   ]
  },
  {
   "cell_type": "code",
   "execution_count": 1,
   "metadata": {},
   "outputs": [],
   "source": [
    "import pandas as pd\n",
    "import mysql.connector"
   ]
  },
  {
   "cell_type": "markdown",
   "metadata": {},
   "source": [
    "Read in **Table** (results_arcellinida_probableerror) from MySQL **Database** (carletondb) and create a python **dataframe** (df_000)"
   ]
  },
  {
   "cell_type": "code",
   "execution_count": 3,
   "metadata": {},
   "outputs": [],
   "source": [
    "# Define a connection\n",
    "mySQLconnection = mysql.connector.connect(user='root', \n",
    "                                          database='carletondb', \n",
    "                                          password = 'password')\n",
    "\n",
    "# Create Dataframe from Query\n",
    "df_000 = pd.read_sql('SELECT * FROM results_arcellinida_probableerror', con=mySQLconnection)\n",
    "\n",
    "# Close connections\n",
    "mySQLconnection.close()"
   ]
  },
  {
   "cell_type": "markdown",
   "metadata": {},
   "source": [
    "Inspect the **dataframe** (df_000)"
   ]
  },
  {
   "cell_type": "code",
   "execution_count": 4,
   "metadata": {},
   "outputs": [
    {
     "name": "stdout",
     "output_type": "stream",
     "text": [
      "(43, 5)\n",
      "   depth_cm  analysis_id  total_counts  prob_error   percent\n",
      "0       0.0            1           365   13.265984  3.634516\n",
      "1       0.5            1           266   15.539787  5.842025\n",
      "2       1.0            1           340   13.745053  4.042663\n",
      "3       1.5            1           320   14.168077  4.427524\n",
      "4       2.0            1           264   15.598539  5.908537\n"
     ]
    }
   ],
   "source": [
    "print(df_000.shape)\n",
    "print(df_000.head())"
   ]
  }
 ],
 "metadata": {
  "kernelspec": {
   "display_name": "Python 3",
   "language": "python",
   "name": "python3"
  },
  "language_info": {
   "codemirror_mode": {
    "name": "ipython",
    "version": 3
   },
   "file_extension": ".py",
   "mimetype": "text/x-python",
   "name": "python",
   "nbconvert_exporter": "python",
   "pygments_lexer": "ipython3",
   "version": "3.7.1"
  }
 },
 "nbformat": 4,
 "nbformat_minor": 2
}
