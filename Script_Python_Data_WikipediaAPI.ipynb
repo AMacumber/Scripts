{
 "cells": [
  {
   "cell_type": "markdown",
   "metadata": {},
   "source": [
    "# Wikipedia API"
   ]
  },
  {
   "cell_type": "code",
   "execution_count": 1,
   "metadata": {},
   "outputs": [],
   "source": [
    "import wikipediaapi\n",
    "\n",
    "wiki_en = wikipediaapi.Wikipedia('en')  # call an instance of english"
   ]
  },
  {
   "cell_type": "markdown",
   "metadata": {},
   "source": [
    "## Pages\n",
    "\n",
    "Does a page exist?"
   ]
  },
  {
   "cell_type": "code",
   "execution_count": 2,
   "metadata": {},
   "outputs": [
    {
     "name": "stdout",
     "output_type": "stream",
     "text": [
      "Page - Exists: True\n"
     ]
    }
   ],
   "source": [
    "page_JMorrison = wiki_en.page('Jim Morrison')\n",
    "\n",
    "print(\"Page - Exists: %s\" % page_JMorrison.exists())"
   ]
  },
  {
   "cell_type": "markdown",
   "metadata": {},
   "source": [
    "Return all categories that a page falls under"
   ]
  },
  {
   "cell_type": "code",
   "execution_count": 3,
   "metadata": {},
   "outputs": [
    {
     "data": {
      "text/plain": [
       "{'Category:1943 births': Category:1943 births (id: ??, ns: 14),\n",
       " 'Category:1971 deaths': Category:1971 deaths (id: ??, ns: 14),\n",
       " 'Category:20th-century American male actors': Category:20th-century American male actors (id: ??, ns: 14),\n",
       " 'Category:20th-century American male writers': Category:20th-century American male writers (id: ??, ns: 14),\n",
       " 'Category:20th-century American poets': Category:20th-century American poets (id: ??, ns: 14),\n",
       " 'Category:20th-century American singers': Category:20th-century American singers (id: ??, ns: 14),\n",
       " 'Category:All accuracy disputes': Category:All accuracy disputes (id: ??, ns: 14),\n",
       " 'Category:All articles lacking reliable references': Category:All articles lacking reliable references (id: ??, ns: 14),\n",
       " 'Category:All articles needing additional references': Category:All articles needing additional references (id: ??, ns: 14),\n",
       " 'Category:All articles with self-published sources': Category:All articles with self-published sources (id: ??, ns: 14),\n",
       " 'Category:All articles with unsourced statements': Category:All articles with unsourced statements (id: ??, ns: 14),\n",
       " 'Category:American baritones': Category:American baritones (id: ??, ns: 14),\n",
       " 'Category:American expatriates in France': Category:American expatriates in France (id: ??, ns: 14),\n",
       " 'Category:American male film actors': Category:American male film actors (id: ??, ns: 14),\n",
       " 'Category:American male poets': Category:American male poets (id: ??, ns: 14),\n",
       " 'Category:American male singer-songwriters': Category:American male singer-songwriters (id: ??, ns: 14),\n",
       " 'Category:American people of English descent': Category:American people of English descent (id: ??, ns: 14),\n",
       " 'Category:American people of Irish descent': Category:American people of Irish descent (id: ??, ns: 14),\n",
       " 'Category:American people of Scottish descent': Category:American people of Scottish descent (id: ??, ns: 14),\n",
       " 'Category:American rock singers': Category:American rock singers (id: ??, ns: 14),\n",
       " 'Category:American rock songwriters': Category:American rock songwriters (id: ??, ns: 14),\n",
       " 'Category:Articles lacking reliable references from April 2017': Category:Articles lacking reliable references from April 2017 (id: ??, ns: 14),\n",
       " 'Category:Articles needing additional references from August 2018': Category:Articles needing additional references from August 2018 (id: ??, ns: 14),\n",
       " 'Category:Articles with Curlie links': Category:Articles with Curlie links (id: ??, ns: 14),\n",
       " 'Category:Articles with disputed statements from May 2015': Category:Articles with disputed statements from May 2015 (id: ??, ns: 14),\n",
       " 'Category:Articles with hCards': Category:Articles with hCards (id: ??, ns: 14),\n",
       " 'Category:Articles with inconsistent citation formats': Category:Articles with inconsistent citation formats (id: ??, ns: 14),\n",
       " 'Category:Articles with self-published sources from December 2017': Category:Articles with self-published sources from December 2017 (id: ??, ns: 14),\n",
       " 'Category:Articles with short description': Category:Articles with short description (id: ??, ns: 14),\n",
       " 'Category:Articles with unsourced statements from July 2012': Category:Articles with unsourced statements from July 2012 (id: ??, ns: 14),\n",
       " 'Category:Burials at Père Lachaise Cemetery': Category:Burials at Père Lachaise Cemetery (id: ??, ns: 14),\n",
       " 'Category:Columbia Records artists': Category:Columbia Records artists (id: ??, ns: 14),\n",
       " 'Category:Death conspiracy theories': Category:Death conspiracy theories (id: ??, ns: 14),\n",
       " 'Category:Deaths in France': Category:Deaths in France (id: ??, ns: 14),\n",
       " 'Category:Elektra Records artists': Category:Elektra Records artists (id: ??, ns: 14),\n",
       " 'Category:Florida State University alumni': Category:Florida State University alumni (id: ??, ns: 14),\n",
       " 'Category:Military brats': Category:Military brats (id: ??, ns: 14),\n",
       " 'Category:Musicians from Alexandria, Virginia': Category:Musicians from Alexandria, Virginia (id: ??, ns: 14),\n",
       " 'Category:Obscenity controversies in music': Category:Obscenity controversies in music (id: ??, ns: 14),\n",
       " 'Category:People from Melbourne, Florida': Category:People from Melbourne, Florida (id: ??, ns: 14),\n",
       " 'Category:People from Topanga, California': Category:People from Topanga, California (id: ??, ns: 14),\n",
       " 'Category:People who have received posthumous pardons': Category:People who have received posthumous pardons (id: ??, ns: 14),\n",
       " 'Category:Recipients of American gubernatorial pardons': Category:Recipients of American gubernatorial pardons (id: ??, ns: 14),\n",
       " 'Category:Singers from Florida': Category:Singers from Florida (id: ??, ns: 14),\n",
       " 'Category:Songwriters from Florida': Category:Songwriters from Florida (id: ??, ns: 14),\n",
       " 'Category:The Doors members': Category:The Doors members (id: ??, ns: 14),\n",
       " 'Category:UCLA Film School alumni': Category:UCLA Film School alumni (id: ??, ns: 14),\n",
       " 'Category:Use mdy dates from October 2019': Category:Use mdy dates from October 2019 (id: ??, ns: 14),\n",
       " 'Category:Webarchive template wayback links': Category:Webarchive template wayback links (id: ??, ns: 14),\n",
       " 'Category:Wikipedia articles with BIBSYS identifiers': Category:Wikipedia articles with BIBSYS identifiers (id: ??, ns: 14),\n",
       " 'Category:Wikipedia articles with BNE identifiers': Category:Wikipedia articles with BNE identifiers (id: ??, ns: 14),\n",
       " 'Category:Wikipedia articles with BNF identifiers': Category:Wikipedia articles with BNF identifiers (id: ??, ns: 14),\n",
       " 'Category:Wikipedia articles with GND identifiers': Category:Wikipedia articles with GND identifiers (id: ??, ns: 14),\n",
       " 'Category:Wikipedia articles with ISNI identifiers': Category:Wikipedia articles with ISNI identifiers (id: ??, ns: 14),\n",
       " 'Category:Wikipedia articles with LCCN identifiers': Category:Wikipedia articles with LCCN identifiers (id: ??, ns: 14),\n",
       " 'Category:Wikipedia articles with LNB identifiers': Category:Wikipedia articles with LNB identifiers (id: ??, ns: 14),\n",
       " 'Category:Wikipedia articles with MusicBrainz identifiers': Category:Wikipedia articles with MusicBrainz identifiers (id: ??, ns: 14),\n",
       " 'Category:Wikipedia articles with NDL identifiers': Category:Wikipedia articles with NDL identifiers (id: ??, ns: 14),\n",
       " 'Category:Wikipedia articles with NKC identifiers': Category:Wikipedia articles with NKC identifiers (id: ??, ns: 14),\n",
       " 'Category:Wikipedia articles with NLA identifiers': Category:Wikipedia articles with NLA identifiers (id: ??, ns: 14),\n",
       " 'Category:Wikipedia articles with NTA identifiers': Category:Wikipedia articles with NTA identifiers (id: ??, ns: 14),\n",
       " 'Category:Wikipedia articles with SNAC-ID identifiers': Category:Wikipedia articles with SNAC-ID identifiers (id: ??, ns: 14),\n",
       " 'Category:Wikipedia articles with SUDOC identifiers': Category:Wikipedia articles with SUDOC identifiers (id: ??, ns: 14),\n",
       " 'Category:Wikipedia articles with Trove identifiers': Category:Wikipedia articles with Trove identifiers (id: ??, ns: 14),\n",
       " 'Category:Wikipedia articles with VIAF identifiers': Category:Wikipedia articles with VIAF identifiers (id: ??, ns: 14),\n",
       " 'Category:Wikipedia articles with WorldCat-VIAF identifiers': Category:Wikipedia articles with WorldCat-VIAF identifiers (id: ??, ns: 14),\n",
       " 'Category:Wikipedia indefinitely move-protected pages': Category:Wikipedia indefinitely move-protected pages (id: ??, ns: 14)}"
      ]
     },
     "execution_count": 3,
     "metadata": {},
     "output_type": "execute_result"
    }
   ],
   "source": [
    "page_JMorrison.categories"
   ]
  },
  {
   "cell_type": "markdown",
   "metadata": {},
   "source": [
    "## Categories"
   ]
  },
  {
   "cell_type": "code",
   "execution_count": 4,
   "metadata": {},
   "outputs": [
    {
     "data": {
      "text/plain": [
       "\"Using the .page() method on a Category returns a <class 'wikipediaapi.WikipediaPage'>.\""
      ]
     },
     "execution_count": 4,
     "metadata": {},
     "output_type": "execute_result"
    }
   ],
   "source": [
    "cat_Musicians_page = wiki_en.page(\"Category:Musicians\")\n",
    "\n",
    "f'Using the .page() method on a Category returns a {type(cat_Musicians_page)}.'"
   ]
  },
  {
   "cell_type": "code",
   "execution_count": 5,
   "metadata": {},
   "outputs": [
    {
     "data": {
      "text/plain": [
       "\"We can then use the attribute .categorymembers to return a <class 'dict'>\""
      ]
     },
     "execution_count": 5,
     "metadata": {},
     "output_type": "execute_result"
    }
   ],
   "source": [
    "cat_Musicians_members = cat_Musicians_page.categorymembers\n",
    "\n",
    "f'We can then use the attribute .categorymembers to return a {type(cat_Musicians_members)}'"
   ]
  },
  {
   "cell_type": "code",
   "execution_count": 6,
   "metadata": {},
   "outputs": [
    {
     "data": {
      "text/plain": [
       "\"The dictionary has 65 elements of the following form: ('Category:One-man bands', Category:One-man bands (id: ??, ns: 14))\""
      ]
     },
     "execution_count": 6,
     "metadata": {},
     "output_type": "execute_result"
    }
   ],
   "source": [
    "length = len(list(cat_Musicians_members.keys())) # number of keys in dict\n",
    "\n",
    "import random\n",
    "\n",
    "onesample = random.choice(list(cat_Musicians_members.items()))\n",
    "\n",
    "f'The dictionary has {length} elements of the following form: {onesample}'"
   ]
  },
  {
   "cell_type": "markdown",
   "metadata": {},
   "source": [
    "### Function to return a dictionary of category members"
   ]
  },
  {
   "cell_type": "code",
   "execution_count": 7,
   "metadata": {},
   "outputs": [],
   "source": [
    "def wiki_cat_dictionary(wiki_Category):\n",
    "    \"\"\"\n",
    "    Using a category input, return a dictionary.\n",
    "    Dictionary contains category members\n",
    "    \n",
    "    category syntax == \"Category:Musicians\"\n",
    "    \"\"\"\n",
    "    wiki_en = wikipediaapi.Wikipedia('en')\n",
    "    \n",
    "    return wiki_en.page(wiki_Category).categorymembers"
   ]
  },
  {
   "cell_type": "code",
   "execution_count": null,
   "metadata": {},
   "outputs": [],
   "source": [
    "# use this to return only Categories and not pages that are category members\n",
    "\n",
    "for c in wiki_cat_dictionary('Category:LGBT musicians by nationality').values():\n",
    "    if c.title[0:8] == 'Category':\n",
    "        print(c.title)"
   ]
  }
 ],
 "metadata": {
  "kernelspec": {
   "display_name": "Python 3",
   "language": "python",
   "name": "python3"
  },
  "language_info": {
   "codemirror_mode": {
    "name": "ipython",
    "version": 3
   },
   "file_extension": ".py",
   "mimetype": "text/x-python",
   "name": "python",
   "nbconvert_exporter": "python",
   "pygments_lexer": "ipython3",
   "version": "3.7.3"
  }
 },
 "nbformat": 4,
 "nbformat_minor": 2
}
