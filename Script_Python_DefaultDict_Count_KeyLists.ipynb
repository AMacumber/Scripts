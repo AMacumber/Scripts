{
 "cells": [
  {
   "cell_type": "markdown",
   "metadata": {},
   "source": [
    "# Function defaultdict\n",
    "\n",
    "code: https://www.geeksforgeeks.org/python-group-anagrams-from-given-list/\n",
    "explanation: https://www.accelebrate.com/blog/using-defaultdict-python\n",
    "\n",
    "\n",
    "## Building Key Lists\n",
    "\n",
    "Import Libraries"
   ]
  },
  {
   "cell_type": "code",
   "execution_count": 16,
   "metadata": {},
   "outputs": [],
   "source": [
    "from collections import defaultdict "
   ]
  },
  {
   "cell_type": "markdown",
   "metadata": {},
   "source": [
    "Initialize the list and print it out."
   ]
  },
  {
   "cell_type": "code",
   "execution_count": 17,
   "metadata": {},
   "outputs": [
    {
     "name": "stdout",
     "output_type": "stream",
     "text": [
      "The original list : ['eat', 'tea', 'tan', 'ate', 'nat', 'bat']\n"
     ]
    }
   ],
   "source": [
    "anagrams = [\"eat\", \"tea\", \"tan\", \"ate\", \"nat\", \"bat\"]\n",
    "\n",
    "print(\"The original list : \" + str(anagrams))"
   ]
  },
  {
   "cell_type": "markdown",
   "metadata": {},
   "source": [
    "We want to create a dictionary where the values are lists. So we set defaultdict with a default factory of list. **A new list is created for each new key.**"
   ]
  },
  {
   "cell_type": "code",
   "execution_count": null,
   "metadata": {},
   "outputs": [],
   "source": [
    "temp = defaultdict(list) "
   ]
  },
  {
   "cell_type": "markdown",
   "metadata": {},
   "source": [
    "For each element in the the list we sort the element and return a string. It becomes a key to which we appened the unmodified element. Any elements that are identical, rather than creating a new key (dictionaries do not support duplicates) is added to the existing key."
   ]
  },
  {
   "cell_type": "code",
   "execution_count": 24,
   "metadata": {},
   "outputs": [],
   "source": [
    "for ele in anagrams: \n",
    "    temp[str(sorted(ele))].append(ele) \n",
    "res = list(temp.values()) "
   ]
  },
  {
   "cell_type": "markdown",
   "metadata": {},
   "source": [
    "Print Result"
   ]
  },
  {
   "cell_type": "code",
   "execution_count": 25,
   "metadata": {},
   "outputs": [
    {
     "name": "stdout",
     "output_type": "stream",
     "text": [
      "The grouped Anagrams : [['eat', 'tea', 'ate', 'eat', 'tea', 'ate'], ['tan', 'nat', 'tan', 'nat'], ['bat', 'bat']]\n"
     ]
    }
   ],
   "source": [
    "print(\"The grouped Anagrams : \" + str(res)) "
   ]
  },
  {
   "cell_type": "code",
   "execution_count": 21,
   "metadata": {},
   "outputs": [
    {
     "data": {
      "text/plain": [
       "defaultdict(list,\n",
       "            {\"['a', 'e', 't']\": ['eat', 'tea', 'ate'],\n",
       "             \"['a', 'n', 't']\": ['tan', 'nat'],\n",
       "             \"['a', 'b', 't']\": ['bat']})"
      ]
     },
     "execution_count": 21,
     "metadata": {},
     "output_type": "execute_result"
    }
   ],
   "source": [
    "temp"
   ]
  },
  {
   "cell_type": "markdown",
   "metadata": {},
   "source": [
    "## Counting\n",
    "\n",
    "We can also use the defaultdict for counting. For this the default factory is **int**. For each key the value is incremented by one."
   ]
  },
  {
   "cell_type": "code",
   "execution_count": 26,
   "metadata": {},
   "outputs": [
    {
     "data": {
      "text/plain": [
       "['spam', 'spam', 'spam', 'spam', 'spam', 'spam', 'eggs', 'spam']"
      ]
     },
     "execution_count": 26,
     "metadata": {},
     "output_type": "execute_result"
    }
   ],
   "source": [
    "food_list = 'spam spam spam spam spam spam eggs spam'.split()\n",
    "food_list"
   ]
  },
  {
   "cell_type": "code",
   "execution_count": 28,
   "metadata": {},
   "outputs": [],
   "source": [
    "food_count = defaultdict(int)\n",
    "\n",
    "for food in food_list:\n",
    "    food_count[food] += 1"
   ]
  },
  {
   "cell_type": "code",
   "execution_count": 29,
   "metadata": {},
   "outputs": [
    {
     "data": {
      "text/plain": [
       "defaultdict(int, {'spam': 7, 'eggs': 1})"
      ]
     },
     "execution_count": 29,
     "metadata": {},
     "output_type": "execute_result"
    }
   ],
   "source": [
    "food_count"
   ]
  }
 ],
 "metadata": {
  "kernelspec": {
   "display_name": "Python 3",
   "language": "python",
   "name": "python3"
  },
  "language_info": {
   "codemirror_mode": {
    "name": "ipython",
    "version": 3
   },
   "file_extension": ".py",
   "mimetype": "text/x-python",
   "name": "python",
   "nbconvert_exporter": "python",
   "pygments_lexer": "ipython3",
   "version": "3.7.3"
  }
 },
 "nbformat": 4,
 "nbformat_minor": 2
}
