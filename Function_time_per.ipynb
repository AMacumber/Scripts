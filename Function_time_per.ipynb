{
 "cells": [
  {
   "cell_type": "markdown",
   "metadata": {},
   "source": [
    "# Time_per()\n",
    "\n",
    "### Function to calculate how long it takes to process an item in your list"
   ]
  },
  {
   "cell_type": "code",
   "execution_count": 1,
   "metadata": {},
   "outputs": [],
   "source": [
    "def time_per(operation, yur_list, digits = 2):\n",
    "    \"\"\"\n",
    "    Given an method and the target of the method\n",
    "    Return the time it takes to process an item in your list\n",
    "    \n",
    "    required: time\n",
    "    \"\"\"\n",
    "    # import and create an instance\n",
    "    import time    \n",
    "    start = time.time()\n",
    "    \n",
    "    # perform your operation\n",
    "    operation(yur_list)\n",
    "    \n",
    "    # end the instance\n",
    "    end = time.time()\n",
    "    \n",
    "    # operation time\n",
    "    time_taken = end-start\n",
    "    \n",
    "    # how many items on the list that were processed\n",
    "    yurlist_len = len(yur_list)\n",
    "    \n",
    "    # unit time\n",
    "    time_per = (end-start) / yurlist_len\n",
    "    \n",
    "    return f'It takes {round(time_per, digits)} s to process an item in your list.'"
   ]
  },
  {
   "cell_type": "code",
   "execution_count": 3,
   "metadata": {},
   "outputs": [
    {
     "data": {
      "text/plain": [
       "'It takes 0.0 s to process an item in your list.'"
      ]
     },
     "execution_count": 3,
     "metadata": {},
     "output_type": "execute_result"
    }
   ],
   "source": [
    "yur_list = [1,2,3]\n",
    "\n",
    "time_per(sum, yur_list)"
   ]
  }
 ],
 "metadata": {
  "kernelspec": {
   "display_name": "Python 3",
   "language": "python",
   "name": "python3"
  },
  "language_info": {
   "codemirror_mode": {
    "name": "ipython",
    "version": 3
   },
   "file_extension": ".py",
   "mimetype": "text/x-python",
   "name": "python",
   "nbconvert_exporter": "python",
   "pygments_lexer": "ipython3",
   "version": "3.7.3"
  }
 },
 "nbformat": 4,
 "nbformat_minor": 2
}
