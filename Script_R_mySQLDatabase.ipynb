{
 "cells": [
  {
   "cell_type": "markdown",
   "metadata": {},
   "source": [
    "# Persistent Database\n",
    "\n",
    "*For this project we will need to have a persistent database to store and access the data. I will be using a local mySQL database and access it using R*\n",
    "\n",
    "You will need to use the mySQL command line client to create the database.\n",
    "\n",
    "## Saving Data to Database\n",
    "\n",
    "### Load Libraries"
   ]
  },
  {
   "cell_type": "code",
   "execution_count": 2,
   "metadata": {},
   "outputs": [
    {
     "name": "stderr",
     "output_type": "stream",
     "text": [
      "Loading required package: DBI\n"
     ]
    }
   ],
   "source": [
    "# load libraries\n",
    "library(RMySQL)"
   ]
  },
  {
   "cell_type": "markdown",
   "metadata": {},
   "source": [
    "### Load Data"
   ]
  },
  {
   "cell_type": "code",
   "execution_count": 1,
   "metadata": {},
   "outputs": [
    {
     "name": "stdout",
     "output_type": "stream",
     "text": [
      "'data.frame':\t769590 obs. of  17 variables:\n",
      " $ ï..REF_DATE           : Factor w/ 567 levels \"1972-01\",\"1972-02\",..: 1 1 1 1 1 1 1 1 1 1 ...\n",
      " $ GEO                   : Factor w/ 142 levels \"Abercorn, Quebec\",..: 15 15 15 15 15 15 15 15 15 15 ...\n",
      " $ DGUID                 : Factor w/ 11 levels \"\",\"2016A000011124\",..: 2 2 2 2 2 2 2 2 2 2 ...\n",
      " $ Trip.characteristics  : Factor w/ 3 levels \"Total Canadian vehicles returning\",..: 3 2 2 2 2 2 2 2 1 1 ...\n",
      " $ Length.of.stay        : Factor w/ 4 levels \"Length of stay, total\",..: 1 1 1 1 1 3 2 4 1 1 ...\n",
      " $ Mode.of.transportation: Factor w/ 4 levels \"Automobiles\",..: 2 2 1 4 3 1 1 1 2 1 ...\n",
      " $ UOM                   : Factor w/ 1 level \"Number\": 1 1 1 1 1 1 1 1 1 1 ...\n",
      " $ UOM_ID                : int  223 223 223 223 223 223 223 223 223 223 ...\n",
      " $ SCALAR_FACTOR         : Factor w/ 1 level \"units \": 1 1 1 1 1 1 1 1 1 1 ...\n",
      " $ SCALAR_ID             : int  0 0 0 0 0 0 0 0 0 0 ...\n",
      " $ VECTOR                : Factor w/ 2130 levels \"v114064843\",\"v114064859\",..: 46 47 48 52 53 49 50 51 54 55 ...\n",
      " $ COORDINATE            : Factor w/ 4260 levels \"1.1.1.1\",\"1.1.1.1.0.0.0.0.0.0\",..: 1 3 5 7 9 11 13 15 17 19 ...\n",
      " $ VALUE                 : int  1427026 616944 557108 59491 345 467342 31939 57827 810082 714503 ...\n",
      " $ STATUS                : Factor w/ 2 levels \"\",\"x\": 1 1 1 1 1 1 1 1 1 1 ...\n",
      " $ SYMBOL                : logi  NA NA NA NA NA NA ...\n",
      " $ TERMINATED            : logi  NA NA NA NA NA NA ...\n",
      " $ DECIMALS              : int  0 0 0 0 0 0 0 0 0 0 ...\n"
     ]
    }
   ],
   "source": [
    "# Data accessed from: https://open.canada.ca/data/en/dataset/6e438d59-880a-4f5e-827d-6c35243cf10a\n",
    "# Data accessed on: 2019-07-12\n",
    "\n",
    "border_df_000 <- read.csv('24100002.csv')\n",
    "\n",
    "str(border_df_000)"
   ]
  },
  {
   "cell_type": "markdown",
   "metadata": {},
   "source": [
    "### Create a connection to your database"
   ]
  },
  {
   "cell_type": "code",
   "execution_count": 3,
   "metadata": {},
   "outputs": [],
   "source": [
    "mydb = dbConnect(MySQL(), user= 'root'\n",
    "                 , password = 'password'\n",
    "                 , dbname='bordercrossings', host = 'localhost')"
   ]
  },
  {
   "cell_type": "markdown",
   "metadata": {},
   "source": [
    "### List tables in the database"
   ]
  },
  {
   "cell_type": "code",
   "execution_count": 4,
   "metadata": {},
   "outputs": [
    {
     "data": {
      "text/html": [
       "'border_df_000'"
      ],
      "text/latex": [
       "'border\\_df\\_000'"
      ],
      "text/markdown": [
       "'border_df_000'"
      ],
      "text/plain": [
       "[1] \"border_df_000\""
      ]
     },
     "metadata": {},
     "output_type": "display_data"
    }
   ],
   "source": [
    "# list the tables in your database\n",
    "dbListTables(mydb)"
   ]
  },
  {
   "cell_type": "markdown",
   "metadata": {},
   "source": [
    "### Remove Conflicting Tables"
   ]
  },
  {
   "cell_type": "code",
   "execution_count": 5,
   "metadata": {},
   "outputs": [
    {
     "data": {
      "text/html": [
       "TRUE"
      ],
      "text/latex": [
       "TRUE"
      ],
      "text/markdown": [
       "TRUE"
      ],
      "text/plain": [
       "[1] TRUE"
      ]
     },
     "metadata": {},
     "output_type": "display_data"
    }
   ],
   "source": [
    "# drop tables; table (border_df_000)\n",
    "dbRemoveTable(mydb,\"border_df_000\")"
   ]
  },
  {
   "cell_type": "markdown",
   "metadata": {},
   "source": [
    "### Save R dataframe to database"
   ]
  },
  {
   "cell_type": "code",
   "execution_count": 6,
   "metadata": {},
   "outputs": [
    {
     "data": {
      "text/html": [
       "TRUE"
      ],
      "text/latex": [
       "TRUE"
      ],
      "text/markdown": [
       "TRUE"
      ],
      "text/plain": [
       "[1] TRUE"
      ]
     },
     "metadata": {},
     "output_type": "display_data"
    }
   ],
   "source": [
    "# overwrite will create a new table; append will add rows to an existing\n",
    "dbWriteTable(mydb, name='border_df_000', value=border_df_000 # value is database table\n",
    "             , overwrite = TRUE, append = FALSE)"
   ]
  },
  {
   "cell_type": "markdown",
   "metadata": {},
   "source": [
    "**Notes:**\n",
    "\n",
    "If you get a permission error:\n",
    "* log into MySQL terminal\n",
    "* type **SET GLOBAL local_infile = true;**\n",
    "* type **SHOW GLOBAL VARIABLES LIKE 'local_infile';** \n",
    "\n",
    "\n",
    "### Check that it saved properly"
   ]
  },
  {
   "cell_type": "code",
   "execution_count": 7,
   "metadata": {},
   "outputs": [
    {
     "name": "stdout",
     "output_type": "stream",
     "text": [
      "'data.frame':\t769590 obs. of  18 variables:\n",
      " $ row_names             : chr  \"1\" \"2\" \"3\" \"4\" ...\n",
      " $ ï..REF_DATE           : chr  \"1972-01\" \"1972-01\" \"1972-01\" \"1972-01\" ...\n",
      " $ GEO                   : chr  \"Canada\" \"Canada\" \"Canada\" \"Canada\" ...\n",
      " $ DGUID                 : chr  \"2016A000011124\" \"2016A000011124\" \"2016A000011124\" \"2016A000011124\" ...\n",
      " $ Trip.characteristics  : chr  \"Total vehicles entering Canada\" \"Total United States vehicles entering\" \"Total United States vehicles entering\" \"Total United States vehicles entering\" ...\n",
      " $ Length.of.stay        : chr  \"Length of stay, total\" \"Length of stay, total\" \"Length of stay, total\" \"Length of stay, total\" ...\n",
      " $ Mode.of.transportation: chr  \"Mode of transportation, total\" \"Mode of transportation, total\" \"Automobiles\" \"Trucks\" ...\n",
      " $ UOM                   : chr  \"Number\" \"Number\" \"Number\" \"Number\" ...\n",
      " $ UOM_ID                : num  223 223 223 223 223 223 223 223 223 223 ...\n",
      " $ SCALAR_FACTOR         : chr  \"units \" \"units \" \"units \" \"units \" ...\n",
      " $ SCALAR_ID             : num  0 0 0 0 0 0 0 0 0 0 ...\n",
      " $ VECTOR                : chr  \"v129299\" \"v129300\" \"v129301\" \"v129305\" ...\n",
      " $ COORDINATE            : chr  \"1.1.1.1\" \"1.2.1.1\" \"1.2.1.2\" \"1.2.1.3\" ...\n",
      " $ VALUE                 : num  1427026 616944 557108 59491 345 ...\n",
      " $ STATUS                : chr  \"\" \"\" \"\" \"\" ...\n",
      " $ SYMBOL                : int  NA NA NA NA NA NA NA NA NA NA ...\n",
      " $ TERMINATED            : int  NA NA NA NA NA NA NA NA NA NA ...\n",
      " $ DECIMALS              : num  0 0 0 0 0 0 0 0 0 0 ...\n"
     ]
    }
   ],
   "source": [
    "rs_save = dbSendQuery(mydb, \"select * from border_df_000\")\n",
    "border_df_000_save = fetch(rs_save, n=-1)\n",
    "\n",
    "str(border_df_000_save)"
   ]
  }
 ],
 "metadata": {
  "kernelspec": {
   "display_name": "Python 3",
   "language": "python",
   "name": "python3"
  },
  "language_info": {
   "codemirror_mode": {
    "name": "ipython",
    "version": 3
   },
   "file_extension": ".py",
   "mimetype": "text/x-python",
   "name": "python",
   "nbconvert_exporter": "python",
   "pygments_lexer": "ipython3",
   "version": "3.7.3"
  }
 },
 "nbformat": 4,
 "nbformat_minor": 2
}
