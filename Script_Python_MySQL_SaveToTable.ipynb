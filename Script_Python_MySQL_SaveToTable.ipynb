{
 "cells": [
  {
   "cell_type": "markdown",
   "metadata": {},
   "source": [
    "# Save pandas dataframe to (local) mySQL database\n",
    "\n",
    "Load Libraries"
   ]
  },
  {
   "cell_type": "code",
   "execution_count": null,
   "metadata": {},
   "outputs": [],
   "source": [
    "import pandas as pd\n",
    "import mysql.connector"
   ]
  },
  {
   "cell_type": "code",
   "execution_count": null,
   "metadata": {},
   "outputs": [],
   "source": [
    "# Define a connection\n",
    "mySQLconnection = mysql.connector.connect(user='root', \n",
    "                                          database='carletondb', \n",
    "                                          password = 'password')\n",
    "\n",
    "# Save table to database\n",
    "df.to_sql(con = con,\n",
    "         name = 'table_name_for_df',\n",
    "         if_exists = 'replace',\n",
    "         flavor = 'mysql')\n",
    "\n",
    "# Close connections\n",
    "mySQLconnection.close()"
   ]
  }
 ],
 "metadata": {
  "kernelspec": {
   "display_name": "Python 3",
   "language": "python",
   "name": "python3"
  },
  "language_info": {
   "codemirror_mode": {
    "name": "ipython",
    "version": 3
   },
   "file_extension": ".py",
   "mimetype": "text/x-python",
   "name": "python",
   "nbconvert_exporter": "python",
   "pygments_lexer": "ipython3",
   "version": "3.7.1"
  }
 },
 "nbformat": 4,
 "nbformat_minor": 2
}
